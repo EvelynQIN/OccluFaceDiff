{
 "cells": [
  {
   "cell_type": "code",
   "execution_count": null,
   "metadata": {},
   "outputs": [],
   "source": [
    "!mim download mmsegmentation --config pspnet_r50-d8_4xb2-40k_cityscapes-512x1024 --dest ."
   ]
  },
  {
   "cell_type": "code",
   "execution_count": null,
   "metadata": {},
   "outputs": [],
   "source": [
    "# # test a video and show the results\n",
    "# video = mmcv.VideoReader('video.mp4')\n",
    "# for frame in video:\n",
    "#    result = inference_model(model, frame)\n",
    "#    show_result_pyplot(model, frame, result, wait_time=1)"
   ]
  },
  {
   "cell_type": "code",
   "execution_count": 1,
   "metadata": {},
   "outputs": [],
   "source": [
    "from mmseg.apis import inference_model, init_model, show_result_pyplot\n",
    "import mmcv\n",
    "from glob import glob \n",
    "import os \n",
    "import numpy as np "
   ]
  },
  {
   "cell_type": "code",
   "execution_count": 4,
   "metadata": {},
   "outputs": [],
   "source": [
    "import cv2"
   ]
  },
  {
   "cell_type": "code",
   "execution_count": 2,
   "metadata": {},
   "outputs": [
    {
     "name": "stderr",
     "output_type": "stream",
     "text": [
      "/local/home/yaqqin/miniconda3/envs/work38/lib/python3.8/site-packages/mmseg/models/decode_heads/decode_head.py:120: UserWarning: For binary segmentation, we suggest using`out_channels = 1` to define the outputchannels of segmentor, and use `threshold`to convert `seg_logits` into a predictionapplying a threshold\n",
      "  warnings.warn('For binary segmentation, we suggest using'\n",
      "/local/home/yaqqin/miniconda3/envs/work38/lib/python3.8/site-packages/mmseg/models/builder.py:36: UserWarning: ``build_loss`` would be deprecated soon, please use ``mmseg.registry.MODELS.build()`` \n",
      "  warnings.warn('``build_loss`` would be deprecated soon, please use '\n",
      "/local/home/yaqqin/miniconda3/envs/work38/lib/python3.8/site-packages/mmseg/models/losses/cross_entropy_loss.py:250: UserWarning: Default ``avg_non_ignore`` is False, if you would like to ignore the certain label and average loss over non-ignore labels, which is the same with PyTorch official cross_entropy, set ``avg_non_ignore=True``.\n",
      "  warnings.warn(\n",
      "/local/home/yaqqin/miniconda3/envs/work38/lib/python3.8/site-packages/mmseg/structures/sampler/builder.py:11: UserWarning: ``build_pixel_sampler`` would be deprecated soon, please use ``mmseg.registry.TASK_UTILS.build()`` \n",
      "  warnings.warn(\n"
     ]
    },
    {
     "name": "stdout",
     "output_type": "stream",
     "text": [
      "Loads checkpoint by local backend from path: deeplabv3plus_r101_512x512_face-occlusion-93ec6695.pth\n"
     ]
    }
   ],
   "source": [
    "# init model\n",
    "config_file = 'deeplabv3plus_r101_512x512_face-occlusion.py'\n",
    "checkpoint_file = 'deeplabv3plus_r101_512x512_face-occlusion-93ec6695.pth'\n",
    "model = init_model(config_file, checkpoint_file, device='cuda:0')"
   ]
  },
  {
   "cell_type": "code",
   "execution_count": null,
   "metadata": {},
   "outputs": [],
   "source": []
  },
  {
   "cell_type": "code",
   "execution_count": 8,
   "metadata": {},
   "outputs": [
    {
     "name": "stderr",
     "output_type": "stream",
     "text": [
      "/local/home/yaqqin/miniconda3/envs/work38/lib/python3.8/site-packages/mmengine/visualization/visualizer.py:196: UserWarning: Failed to add <class 'mmengine.visualization.vis_backend.LocalVisBackend'>, please provide the `save_dir` argument.\n",
      "  warnings.warn(f'Failed to add {vis_backend.__class__}, '\n"
     ]
    },
    {
     "data": {
      "text/plain": [
       "array([[[20, 31, 45],\n",
       "        [20, 31, 45],\n",
       "        [20, 31, 45],\n",
       "        ...,\n",
       "        [57, 56, 73],\n",
       "        [57, 56, 73],\n",
       "        [57, 56, 73]],\n",
       "\n",
       "       [[20, 31, 45],\n",
       "        [20, 31, 45],\n",
       "        [20, 31, 45],\n",
       "        ...,\n",
       "        [57, 56, 73],\n",
       "        [57, 56, 73],\n",
       "        [57, 56, 73]],\n",
       "\n",
       "       [[20, 31, 45],\n",
       "        [20, 31, 45],\n",
       "        [20, 31, 45],\n",
       "        ...,\n",
       "        [57, 56, 73],\n",
       "        [57, 56, 73],\n",
       "        [57, 56, 73]],\n",
       "\n",
       "       ...,\n",
       "\n",
       "       [[ 8,  6,  8],\n",
       "        [ 8,  6,  8],\n",
       "        [ 8,  6,  8],\n",
       "        ...,\n",
       "        [14, 10, 14],\n",
       "        [14, 10, 14],\n",
       "        [14, 10, 14]],\n",
       "\n",
       "       [[ 8,  6,  8],\n",
       "        [ 8,  6,  8],\n",
       "        [ 8,  6,  8],\n",
       "        ...,\n",
       "        [14, 10, 14],\n",
       "        [14, 10, 14],\n",
       "        [14, 10, 14]],\n",
       "\n",
       "       [[ 8,  6,  8],\n",
       "        [ 8,  6,  8],\n",
       "        [ 8,  6,  8],\n",
       "        ...,\n",
       "        [14, 10, 14],\n",
       "        [14, 10, 14],\n",
       "        [14, 10, 14]]], dtype=uint8)"
      ]
     },
     "execution_count": 8,
     "metadata": {},
     "output_type": "execute_result"
    }
   ],
   "source": [
    "path = '../outputs/justin/00001.png'\n",
    "img = mmcv.imread(path)\n",
    "file_name = os.path.split(path)[-1]\n",
    "result = inference_model(model, img)\n",
    "show_result_pyplot(model, img, result, show=True, out_file=f\"seg_output/{file_name}\", opacity=0.5)"
   ]
  },
  {
   "cell_type": "code",
   "execution_count": 10,
   "metadata": {},
   "outputs": [
    {
     "data": {
      "text/plain": [
       "numpy.ndarray"
      ]
     },
     "execution_count": 10,
     "metadata": {},
     "output_type": "execute_result"
    }
   ],
   "source": []
  },
  {
   "cell_type": "code",
   "execution_count": 5,
   "metadata": {},
   "outputs": [
    {
     "data": {
      "text/plain": [
       "['seg_logits', 'pred_sem_seg']"
      ]
     },
     "execution_count": 5,
     "metadata": {},
     "output_type": "execute_result"
    }
   ],
   "source": [
    "result.keys()"
   ]
  },
  {
   "cell_type": "code",
   "execution_count": 9,
   "metadata": {},
   "outputs": [
    {
     "data": {
      "text/plain": [
       "array([0, 1])"
      ]
     },
     "execution_count": 9,
     "metadata": {},
     "output_type": "execute_result"
    }
   ],
   "source": [
    "import numpy as np \n",
    "seg_mask = np.asanyarray(result.pred_sem_seg.values()[0].to('cpu'))\n",
    "np.unique(seg_mask)"
   ]
  },
  {
   "cell_type": "code",
   "execution_count": 16,
   "metadata": {},
   "outputs": [
    {
     "data": {
      "text/plain": [
       "[tensor([[[0, 0, 0,  ..., 0, 0, 0],\n",
       "          [0, 0, 0,  ..., 0, 0, 0],\n",
       "          [0, 0, 0,  ..., 0, 0, 0],\n",
       "          ...,\n",
       "          [0, 0, 0,  ..., 0, 0, 0],\n",
       "          [0, 0, 0,  ..., 0, 0, 0],\n",
       "          [0, 0, 0,  ..., 0, 0, 0]]], device='cuda:0')]"
      ]
     },
     "execution_count": 16,
     "metadata": {},
     "output_type": "execute_result"
    }
   ],
   "source": [
    "result.pred_sem_seg.values()"
   ]
  },
  {
   "cell_type": "code",
   "execution_count": 10,
   "metadata": {},
   "outputs": [
    {
     "data": {
      "text/plain": [
       "(1, 1080, 1920)"
      ]
     },
     "execution_count": 10,
     "metadata": {},
     "output_type": "execute_result"
    }
   ],
   "source": [
    "seg_mask.shape"
   ]
  }
 ],
 "metadata": {
  "kernelspec": {
   "display_name": "general",
   "language": "python",
   "name": "python3"
  },
  "language_info": {
   "codemirror_mode": {
    "name": "ipython",
    "version": 3
   },
   "file_extension": ".py",
   "mimetype": "text/x-python",
   "name": "python",
   "nbconvert_exporter": "python",
   "pygments_lexer": "ipython3",
   "version": "3.8.18"
  }
 },
 "nbformat": 4,
 "nbformat_minor": 2
}
