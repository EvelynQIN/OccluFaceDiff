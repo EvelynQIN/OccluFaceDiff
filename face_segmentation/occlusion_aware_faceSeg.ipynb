{
 "cells": [
  {
   "cell_type": "code",
   "execution_count": null,
   "metadata": {},
   "outputs": [],
   "source": [
    "!mim download mmsegmentation --config pspnet_r50-d8_4xb2-40k_cityscapes-512x1024 --dest ."
   ]
  },
  {
   "cell_type": "code",
   "execution_count": null,
   "metadata": {},
   "outputs": [],
   "source": [
    "# # test a video and show the results\n",
    "# video = mmcv.VideoReader('video.mp4')\n",
    "# for frame in video:\n",
    "#    result = inference_model(model, frame)\n",
    "#    show_result_pyplot(model, frame, result, wait_time=1)"
   ]
  },
  {
   "cell_type": "code",
   "execution_count": 1,
   "metadata": {},
   "outputs": [],
   "source": [
    "from mmseg.apis import inference_model, init_model, show_result_pyplot\n",
    "import mmcv\n",
    "from glob import glob \n",
    "import os \n",
    "import numpy as np \n",
    "import cv2"
   ]
  },
  {
   "cell_type": "code",
   "execution_count": 3,
   "metadata": {},
   "outputs": [
    {
     "name": "stderr",
     "output_type": "stream",
     "text": [
      "/local/home/yaqqin/miniconda3/envs/work38/lib/python3.8/site-packages/mmseg/models/decode_heads/decode_head.py:120: UserWarning: For binary segmentation, we suggest using`out_channels = 1` to define the outputchannels of segmentor, and use `threshold`to convert `seg_logits` into a predictionapplying a threshold\n",
      "  warnings.warn('For binary segmentation, we suggest using'\n",
      "/local/home/yaqqin/miniconda3/envs/work38/lib/python3.8/site-packages/mmseg/models/builder.py:36: UserWarning: ``build_loss`` would be deprecated soon, please use ``mmseg.registry.MODELS.build()`` \n",
      "  warnings.warn('``build_loss`` would be deprecated soon, please use '\n",
      "/local/home/yaqqin/miniconda3/envs/work38/lib/python3.8/site-packages/mmseg/models/losses/cross_entropy_loss.py:250: UserWarning: Default ``avg_non_ignore`` is False, if you would like to ignore the certain label and average loss over non-ignore labels, which is the same with PyTorch official cross_entropy, set ``avg_non_ignore=True``.\n",
      "  warnings.warn(\n",
      "/local/home/yaqqin/miniconda3/envs/work38/lib/python3.8/site-packages/mmseg/structures/sampler/builder.py:11: UserWarning: ``build_pixel_sampler`` would be deprecated soon, please use ``mmseg.registry.TASK_UTILS.build()`` \n",
      "  warnings.warn(\n"
     ]
    },
    {
     "name": "stdout",
     "output_type": "stream",
     "text": [
      "Loads checkpoint by local backend from path: deeplabv3plus_r101_512x512_face-occlusion-93ec6695.pth\n"
     ]
    }
   ],
   "source": [
    "# init model\n",
    "config_file = 'deeplabv3plus_r101_512x512_face-occlusion.py'\n",
    "checkpoint_file = 'deeplabv3plus_r101_512x512_face-occlusion-93ec6695.pth'\n",
    "model = init_model(config_file, checkpoint_file, device='cuda:0')"
   ]
  },
  {
   "cell_type": "code",
   "execution_count": 8,
   "metadata": {},
   "outputs": [
    {
     "data": {
      "text/plain": [
       "array([[[26, 33, 24],\n",
       "        [26, 33, 24],\n",
       "        [26, 33, 24],\n",
       "        ...,\n",
       "        [22, 28, 20],\n",
       "        [22, 28, 20],\n",
       "        [22, 28, 20]],\n",
       "\n",
       "       [[26, 33, 24],\n",
       "        [26, 33, 24],\n",
       "        [26, 33, 24],\n",
       "        ...,\n",
       "        [22, 28, 20],\n",
       "        [22, 28, 20],\n",
       "        [22, 28, 20]],\n",
       "\n",
       "       [[26, 33, 24],\n",
       "        [26, 33, 24],\n",
       "        [26, 33, 24],\n",
       "        ...,\n",
       "        [22, 28, 20],\n",
       "        [22, 28, 20],\n",
       "        [22, 28, 20]],\n",
       "\n",
       "       ...,\n",
       "\n",
       "       [[21, 27, 21],\n",
       "        [21, 27, 21],\n",
       "        [21, 27, 21],\n",
       "        ...,\n",
       "        [21, 25, 20],\n",
       "        [21, 25, 20],\n",
       "        [21, 25, 20]],\n",
       "\n",
       "       [[21, 27, 21],\n",
       "        [21, 27, 21],\n",
       "        [21, 27, 21],\n",
       "        ...,\n",
       "        [21, 25, 20],\n",
       "        [21, 25, 20],\n",
       "        [21, 25, 20]],\n",
       "\n",
       "       [[21, 27, 21],\n",
       "        [21, 27, 21],\n",
       "        [21, 27, 21],\n",
       "        ...,\n",
       "        [21, 25, 20],\n",
       "        [21, 25, 20],\n",
       "        [21, 25, 20]]], dtype=uint8)"
      ]
     },
     "execution_count": 8,
     "metadata": {},
     "output_type": "execute_result"
    }
   ],
   "source": [
    "path = '../dataset/mead_25fps/processed/images/M003/front/angry/level_1/000002.png'\n",
    "img = cv2.imread(path) \n",
    "file_name = os.path.split(path)[-1]\n",
    "result = inference_model(model, img)\n",
    "show_result_pyplot(model, img, result, show=True, out_file=f\"seg_output/{file_name}\", opacity=0.2)"
   ]
  },
  {
   "cell_type": "code",
   "execution_count": 38,
   "metadata": {},
   "outputs": [],
   "source": [
    "seg_mask = np.asanyarray(result[0].pred_sem_seg.values()[0].cpu())\n"
   ]
  },
  {
   "cell_type": "code",
   "execution_count": 39,
   "metadata": {},
   "outputs": [
    {
     "data": {
      "text/plain": [
       "(1, 1280, 720)"
      ]
     },
     "execution_count": 39,
     "metadata": {},
     "output_type": "execute_result"
    }
   ],
   "source": [
    "seg_mask.shape"
   ]
  },
  {
   "cell_type": "code",
   "execution_count": 10,
   "metadata": {},
   "outputs": [
    {
     "data": {
      "text/plain": [
       "array([0])"
      ]
     },
     "execution_count": 10,
     "metadata": {},
     "output_type": "execute_result"
    }
   ],
   "source": [
    "import numpy as np\n",
    "import matplotlib.pyplot as plt\n",
    "\n",
    "np.unique(seg_mask)"
   ]
  },
  {
   "cell_type": "code",
   "execution_count": 11,
   "metadata": {},
   "outputs": [
    {
     "name": "stdout",
     "output_type": "stream",
     "text": [
      "(1280, 720, 1)\n"
     ]
    },
    {
     "data": {
      "text/plain": [
       "<matplotlib.image.AxesImage at 0x7f97c34eae20>"
      ]
     },
     "execution_count": 11,
     "metadata": {},
     "output_type": "execute_result"
    },
    {
     "data": {
      "image/png": "[encoded data removed]",
      "text/plain": [
       "<Figure size 640x480 with 1 Axes>"
      ]
     },
     "metadata": {},
     "output_type": "display_data"
    }
   ],
   "source": [
    "seg_mask = seg_mask[0] * 255\n",
    "seg_mask = np.expand_dims(seg_mask, axis=-1)\n",
    "print(seg_mask.shape)\n",
    "plt.imshow(seg_mask, cmap='gray')"
   ]
  },
  {
   "cell_type": "code",
   "execution_count": 17,
   "metadata": {},
   "outputs": [],
   "source": [
    "import face_alignment\n",
    "from skimage.transform import warp, estimate_transform"
   ]
  },
  {
   "cell_type": "code",
   "execution_count": 16,
   "metadata": {},
   "outputs": [],
   "source": [
    "\n",
    "# landmark detector\n",
    "face_detector_kwargs = {\n",
    "    'back_model': False\n",
    "}\n",
    "\n",
    "face_detector = face_alignment.FaceAlignment(\n",
    "    face_alignment.LandmarksType.TWO_D, \n",
    "    flip_input=False,\n",
    "    face_detector='blazeface',    # support detectors ['dlib', 'blazeface', 'cfd]\n",
    "    face_detector_kwargs = face_detector_kwargs,\n",
    "    device='cuda',)"
   ]
  },
  {
   "cell_type": "code",
   "execution_count": 19,
   "metadata": {},
   "outputs": [],
   "source": [
    "def crop_face(landmarks):\n",
    "    scale = 1.5\n",
    "    image_size = 224\n",
    "    left = np.min(landmarks[:, 0])\n",
    "    right = np.max(landmarks[:, 0])\n",
    "    top = np.min(landmarks[:, 1])\n",
    "    bottom = np.max(landmarks[:, 1])\n",
    "    old_size = (right - left + bottom - top) / 2\n",
    "    center = np.array([right - (right - left) / 2.0, bottom - (bottom - top) / 2.0])  # + old_size*0.1])\n",
    "\n",
    "    size = int(old_size * scale)\n",
    "\n",
    "    # crop image\n",
    "    src_pts = np.array([[center[0] - size / 2, center[1] - size / 2], [center[0] - size / 2, center[1] + size / 2],\n",
    "                        [center[0] + size / 2, center[1] - size / 2]])\n",
    "    DST_PTS = np.array([[0, 0], [0, image_size - 1], [image_size - 1, 0]])\n",
    "    tform = estimate_transform('similarity', src_pts, DST_PTS)\n",
    "\n",
    "    return tform"
   ]
  },
  {
   "cell_type": "code",
   "execution_count": 20,
   "metadata": {},
   "outputs": [],
   "source": [
    "lmks, scores, bbox = face_detector.get_landmarks_from_image(\n",
    "    cv2.cvtColor(img, cv2.COLOR_BGR2RGB), return_bboxes=True, return_landmark_score=True)\n",
    "kpt = lmks[0]\n",
    "tform = crop_face(kpt)\n",
    "cropped_kpt = np.dot(tform.params, np.hstack([kpt, np.ones([kpt.shape[0],1])]).T).T\n",
    "cropped_image = warp(img, tform.inverse, output_shape=(224,224))\n",
    "cropped_image_rgb = cropped_image.transpose(2,0,1)[[2,1,0],:,:] # (3, 224, 224) in RGB"
   ]
  },
  {
   "cell_type": "code",
   "execution_count": 21,
   "metadata": {},
   "outputs": [],
   "source": [
    "warped_mask = warp(seg_mask[:,:,0], tform.inverse, output_shape=(224,224))"
   ]
  },
  {
   "cell_type": "code",
   "execution_count": 24,
   "metadata": {},
   "outputs": [],
   "source": [
    "warped_mask[warped_mask > 0] = 1"
   ]
  },
  {
   "cell_type": "code",
   "execution_count": 25,
   "metadata": {},
   "outputs": [
    {
     "data": {
      "text/plain": [
       "array([0., 1.])"
      ]
     },
     "execution_count": 25,
     "metadata": {},
     "output_type": "execute_result"
    }
   ],
   "source": [
    "np.unique(warped_mask)"
   ]
  },
  {
   "cell_type": "code",
   "execution_count": 27,
   "metadata": {},
   "outputs": [],
   "source": [
    "import torch"
   ]
  },
  {
   "cell_type": "code",
   "execution_count": 28,
   "metadata": {},
   "outputs": [
    {
     "name": "stderr",
     "output_type": "stream",
     "text": [
      "Using cache found in /local/home/yaqqin/.cache/torch/hub/pytorch_vision_v0.8.1\n"
     ]
    }
   ],
   "source": [
    "encoder = torch.hub.load('pytorch/vision:v0.8.1', 'mobilenet_v2', pretrained=True)"
   ]
  },
  {
   "cell_type": "code",
   "execution_count": 32,
   "metadata": {},
   "outputs": [
    {
     "data": {
      "text/plain": [
       "(3, 224, 224)"
      ]
     },
     "execution_count": 32,
     "metadata": {},
     "output_type": "execute_result"
    }
   ],
   "source": [
    "cropped_image_rgb.shape"
   ]
  },
  {
   "cell_type": "code",
   "execution_count": 33,
   "metadata": {},
   "outputs": [],
   "source": [
    "image = torch.from_numpy(cropped_image_rgb).float().unsqueeze(0)\n",
    "emb = encoder.features(image)"
   ]
  }
 ],
 "metadata": {
  "kernelspec": {
   "display_name": "general",
   "language": "python",
   "name": "python3"
  },
  "language_info": {
   "codemirror_mode": {
    "name": "ipython",
    "version": 3
   },
   "file_extension": ".py",
   "mimetype": "text/x-python",
   "name": "python",
   "nbconvert_exporter": "python",
   "pygments_lexer": "ipython3",
   "version": "3.8.18"
  }
 },
 "nbformat": 4,
 "nbformat_minor": 2
}
